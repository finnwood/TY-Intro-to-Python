{
 "cells": [
  {
   "cell_type": "markdown",
   "id": "40fd44be-533a-4f68-849b-5c22b542edb1",
   "metadata": {},
   "source": [
    "# Lesson 01 - Introduction\n",
    "\n",
    "Go to https://www.replit.com and log in with your Adamstown email to create an account. You will be invited to join a team which will be used for sharing projects and assignments with you.\n",
    "## Creating First Repil\n",
    "1.\tUnder Template start typing python and choose Python as the template\r\n",
    "2.\tIt is important to give the Repl a recognisable name\r\n",
    "3.\tfinally click on the Blue Create Rep## Replit Window\n",
    "The main parts of the Replit Window A. The list of the files in the Repl. the file called main.py must be there as this is what is run. B. Then the main coding window. This is where the code is placed C. The console window is where the output of the program goes.\n",
    "## First Python Code\n",
    "CHARACTERS\r\n",
    "A character is any single item that can be printed to the screen. This can be letters, Numbers, or any other symbol the computer can display. Characters must be surrounded by “ ” or it will not display properl\n",
    "S\n",
    "STRINGS\r\n",
    "A string is any collection of 2 or more characters in a row. For Example, this sentence is a string made up of letters, Spaces and symbols such as the comma and full st\n",
    "p.\r\n",
    "FUNCTIONS\r\n",
    "A function is what a command is known as in Python. For Example, the function to place text on to the screen is the print command and is structured as fo \n",
    "\n",
    "> print(\"This is the print Command\")\n",
    "\n",
    "This will place the sentence This is the print command to the screen.\r\n",
    "Note the structure of the brackets and inverted commas to print a string to the screen.\r",
    "## Practice Code\n",
    "### Exercise 01\n",
    "Task 01\n",
    "Using one print function produce this output\n",
    "\n",
    "llows\r\n",
    "l\r\n"
   ]
  },
  {
   "cell_type": "code",
   "execution_count": 2,
   "id": "d830c92a-68d3-4e2b-af6d-8c0be7695f5c",
   "metadata": {},
   "outputs": [
    {
     "name": "stdout",
     "output_type": "stream",
     "text": [
      "Hello World\n"
     ]
    }
   ],
   "source": [
    "# Task 01\n",
    "print(\"Hello World\")"
   ]
  },
  {
   "cell_type": "markdown",
   "id": "2a14eb8f-717b-4b1d-84b8-d7980827fc24",
   "metadata": {},
   "source": [
    "Task 02\n",
    "Using 2 print functions produce this output"
   ]
  },
  {
   "cell_type": "code",
   "execution_count": 3,
   "id": "fae7bf3a-5cb7-44dd-9310-4974146b024d",
   "metadata": {},
   "outputs": [
    {
     "name": "stdout",
     "output_type": "stream",
     "text": [
      "Question. What do you call it when you have your mom's mom on social media?\n",
      "Answer. Instagran\n"
     ]
    }
   ],
   "source": [
    "# Task 02\n",
    "print(\"Question. What do you call it when you have your mom's mom on social media?\")  \n",
    "print(\"Answer. Instagran\")"
   ]
  },
  {
   "cell_type": "markdown",
   "id": "ebc89dd1-fb63-4c72-a571-5e7ce958d25d",
   "metadata": {},
   "source": [
    "Task 03\n",
    "Using one print function and this code \\U0001f600, produce this output."
   ]
  },
  {
   "cell_type": "code",
   "execution_count": 1,
   "id": "c729fc72-9d0c-443d-8edd-041d2c2a7e10",
   "metadata": {},
   "outputs": [
    {
     "name": "stdout",
     "output_type": "stream",
     "text": [
      "😀\n"
     ]
    }
   ],
   "source": [
    "print(\"\\U0001f600\")"
   ]
  },
  {
   "cell_type": "markdown",
   "id": "64993fc6-69f2-4063-a6b8-362cd6fac646",
   "metadata": {},
   "source": [
    "### Exercise 02\n",
    "Task 01 Using one print function produce this output."
   ]
  },
  {
   "cell_type": "code",
   "execution_count": 4,
   "id": "1167641f-5517-45e1-a2b3-7d44e8800db3",
   "metadata": {},
   "outputs": [
    {
     "name": "stdout",
     "output_type": "stream",
     "text": [
      "I am learning how to use the newline and tab special characters.\n"
     ]
    }
   ],
   "source": [
    "print(\"I am learning how to use the newline and tab special characters.\")"
   ]
  },
  {
   "cell_type": "code",
   "execution_count": null,
   "id": "d89be04c-f63b-4fea-a7e5-0011cfa9f101",
   "metadata": {},
   "outputs": [],
   "source": [
    "Task 02\n",
    "Modify this code to replicate the output shown, using only one print function and the newline special character \\n.\n",
    "print(“My favourite animal”)\n",
    "print(“is the giraffe!”)\n"
   ]
  },
  {
   "cell_type": "code",
   "execution_count": 5,
   "id": "b304c207-feb6-46b9-a768-cd017315141a",
   "metadata": {},
   "outputs": [
    {
     "name": "stdout",
     "output_type": "stream",
     "text": [
      "My favourite animal \n",
      "is the giraffe!\n"
     ]
    }
   ],
   "source": [
    "# Task 02\n",
    "print(\"My favourite animal \\nis the giraffe!\")"
   ]
  },
  {
   "cell_type": "markdown",
   "id": "26cd5c82-ef36-411d-88c7-3091348a7056",
   "metadata": {},
   "source": [
    "Task 03 \n",
    "Modify the Following Code using the tab command to create the output below\r\n",
    "print(“I know how to use the tab special character!”)\r\n"
   ]
  },
  {
   "cell_type": "code",
   "execution_count": 6,
   "id": "f874e7b2-bfa1-4912-866c-a4a58c0c0e49",
   "metadata": {},
   "outputs": [
    {
     "name": "stdout",
     "output_type": "stream",
     "text": [
      "I \tknow \thow \tto \tuse \tthe \ttab \tspecial \tcharacter!\n"
     ]
    }
   ],
   "source": [
    "# Task 03\n",
    "print(\"I \\tknow \\thow \\tto \\tuse \\tthe \\ttab \\tspecial \\tcharacter!\")"
   ]
  },
  {
   "cell_type": "markdown",
   "id": "8767e3ec-d4ca-4c33-a359-a987d862b127",
   "metadata": {},
   "source": [
    "Task 04\n",
    "Using one print function, produce this output using the newline and tab special characters\r\n",
    "Today I learned.\r\n",
    "\tHow to use\r\n",
    "\t\tThe newline\r\n",
    "\t\t\tand tab\r\n",
    "\t\t\t\tspecial characters\r\n"
   ]
  },
  {
   "cell_type": "code",
   "execution_count": 7,
   "id": "a225c855-876f-42e3-9086-5ec1235a35e8",
   "metadata": {},
   "outputs": [
    {
     "name": "stdout",
     "output_type": "stream",
     "text": [
      "Today I learned. \n",
      "\tHow to use \n",
      "\t\tThe newline \n",
      "\t\t\tand tab \n",
      "\t\t\t\tspecial characters\n"
     ]
    }
   ],
   "source": [
    "#Task 04\n",
    "print(\"Today I learned. \\n\\tHow to use \\n\\t\\tThe newline \\n\\t\\t\\tand tab \\n\\t\\t\\t\\tspecial characters\")"
   ]
  },
  {
   "cell_type": "markdown",
   "id": "86033914-9cef-47bc-a1dd-5c51fddb81af",
   "metadata": {},
   "source": [
    "### Exercise 03\n",
    "Task 01\n",
    "Using one print function, produce this square using the newline and tab special characters.\r\n",
    "**********\r\n",
    "*        * \r\n",
    "*        * \r\n",
    "*        * \r\n",
    "**********\r\n"
   ]
  },
  {
   "cell_type": "code",
   "execution_count": 8,
   "id": "305e48cf-f3de-410e-9f64-bee0e8d5c327",
   "metadata": {},
   "outputs": [
    {
     "name": "stdout",
     "output_type": "stream",
     "text": [
      "*********\n",
      "*\t*\n",
      "*\t*\n",
      "*\t*\n",
      "*********\n"
     ]
    }
   ],
   "source": [
    "# Task 01\n",
    "print(\"*********\\n*\\t*\\n*\\t*\\n*\\t*\\n*********\")"
   ]
  },
  {
   "cell_type": "markdown",
   "id": "b1bf70e7-e8e7-474d-b6df-345c9ad990d4",
   "metadata": {},
   "source": [
    "Task 02\n",
    "using just 1 print command recreate the shape below\r\n",
    "\t\t\t*\r\n",
    "\t\t*\t\t*\r\n",
    "\t*\t\t\t\t*\r\n",
    "*\t\t\t\t\t\t*\r\n",
    "********************************************************\r\n"
   ]
  },
  {
   "cell_type": "code",
   "execution_count": 10,
   "id": "acf9d330-57b7-411a-aed5-6635a9a2c89c",
   "metadata": {
    "scrolled": true
   },
   "outputs": [
    {
     "name": "stdout",
     "output_type": "stream",
     "text": [
      "\t\t\t*\n",
      "\t\t*\t\t*\n",
      "\t*\t\t\t\t*\n",
      "*\t\t\t\t\t\t*\n",
      "**************************************************\n"
     ]
    }
   ],
   "source": [
    "# Task 01\n",
    "print(\"\\t\\t\\t*\\n\\t\\t*\\t\\t*\\n\\t*\\t\\t\\t\\t*\\n*\\t\\t\\t\\t\\t\\t*\\n**************************************************\")"
   ]
  },
  {
   "cell_type": "markdown",
   "id": "37a832c8-3c2e-41b8-af95-e3df38f41186",
   "metadata": {},
   "source": [
    "### Exercise 04\n",
    "Task 01\n",
    "Using one print function, produce this square inside a triangle with the word “Python!” inside of the square. Achieve this by using the newline and tab special characters.\r",
    "     *\r\n"
   ]
  },
  {
   "cell_type": "code",
   "execution_count": 12,
   "id": "a5c9b85d-6cd9-47dc-a8bb-36764ab188bb",
   "metadata": {},
   "outputs": [
    {
     "name": "stdout",
     "output_type": "stream",
     "text": [
      "\t\t\t\t\t*\n",
      "\t\t\t\t*\t\t*\n",
      "\t\t\t*\t*\t*\t*\t*\n",
      "\t\t*\t\t*\tPYTHON!\t*\t\t*\n",
      "\t*\t\t\t*\t\t*\t\t\t*\n",
      "*\t*\t*\t*\t*\t*\t*\t*\t*\t*\t*\n"
     ]
    }
   ],
   "source": [
    "# Task 01\n",
    "print(\"\\t\\t\\t\\t\\t*\\n\\t\\t\\t\\t*\\t\\t*\\n\\t\\t\\t*\\t*\\t*\\t*\\t*\\n\\t\\t*\\t\\t*\\tPYTHON!\\t*\\t\\t*\\n\\t*\\t\\t\\t*\\t\\t*\\t\\t\\t*\\n*\\t*\\t*\\t*\\t*\\t*\\t*\\t*\\t*\\t*\\t*\")"
   ]
  },
  {
   "cell_type": "code",
   "execution_count": null,
   "id": "90b5f30c-a044-4724-92bd-26bd7bf30216",
   "metadata": {},
   "outputs": [],
   "source": [
    "Task 02 \n",
    "Using one print function, produce this circle. Achieve this by using the newline and tab special characters."
   ]
  },
  {
   "cell_type": "code",
   "execution_count": 13,
   "id": "18ea5489-3ade-4392-ab86-8e07e4998ee3",
   "metadata": {},
   "outputs": [
    {
     "name": "stdout",
     "output_type": "stream",
     "text": [
      "\t\t\t***\n",
      "\t\t**\t\t**\n",
      "\t\t**\t\t**\n",
      "\t\t**\t\t**\n",
      "\t\t**\t\t**\n",
      "\t\t**\t\t**\n",
      "\t\t**\t\t**\n",
      "\t\t\t***\n"
     ]
    }
   ],
   "source": [
    "#Task 02\n",
    "print(\"\\t\\t\\t***\\n\\t\\t**\\t\\t**\\n\\t\\t**\\t\\t**\\n\\t\\t**\\t\\t**\\n\\t\\t**\\t\\t**\\n\\t\\t**\\t\\t**\\n\\t\\t**\\t\\t**\\n\\t\\t\\t***\")"
   ]
  },
  {
   "cell_type": "code",
   "execution_count": null,
   "id": "b7f8aeeb-c336-4166-91f7-42a39a9923cb",
   "metadata": {},
   "outputs": [],
   "source": []
  }
 ],
 "metadata": {
  "kernelspec": {
   "display_name": "Python 3 (ipykernel)",
   "language": "python",
   "name": "python3"
  },
  "language_info": {
   "codemirror_mode": {
    "name": "ipython",
    "version": 3
   },
   "file_extension": ".py",
   "mimetype": "text/x-python",
   "name": "python",
   "nbconvert_exporter": "python",
   "pygments_lexer": "ipython3",
   "version": "3.11.4"
  }
 },
 "nbformat": 4,
 "nbformat_minor": 5
}
