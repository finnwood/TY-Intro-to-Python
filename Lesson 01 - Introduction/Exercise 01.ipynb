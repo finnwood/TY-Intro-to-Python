{
 "cells": [
  {
   "cell_type": "markdown",
   "id": "40fd44be-533a-4f68-849b-5c22b542edb1",
   "metadata": {},
   "source": [
    "# Exercise 01\n"
   ]
  },
  {
   "cell_type": "code",
   "execution_count": 1,
   "id": "97c9d381-78d7-4659-84dc-257c12046c18",
   "metadata": {
    "scrolled": true
   },
   "outputs": [
    {
     "name": "stdout",
     "output_type": "stream",
     "text": [
      "Hello World\n"
     ]
    }
   ],
   "source": [
    "# Task 01\n",
    "print(\"Hello World\")"
   ]
  },
  {
   "cell_type": "code",
   "execution_count": null,
   "id": "f6ef7380-8b61-4c58-add5-4b1f74a719f5",
   "metadata": {},
   "outputs": [],
   "source": []
  }
 ],
 "metadata": {
  "kernelspec": {
   "display_name": "Python 3 (ipykernel)",
   "language": "python",
   "name": "python3"
  },
  "language_info": {
   "codemirror_mode": {
    "name": "ipython",
    "version": 3
   },
   "file_extension": ".py",
   "mimetype": "text/x-python",
   "name": "python",
   "nbconvert_exporter": "python",
   "pygments_lexer": "ipython3",
   "version": "3.11.4"
  }
 },
 "nbformat": 4,
 "nbformat_minor": 5
}
