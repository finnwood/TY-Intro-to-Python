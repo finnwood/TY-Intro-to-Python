{
 "cells": [
  {
   "cell_type": "markdown",
   "id": "639860cf-4686-41c3-abae-50a8dec35a68",
   "metadata": {},
   "source": [
    "# Lesson 01 Extra Tasks\n",
    "Task 01\n",
    "Create the menu shown below using only the print function"
   ]
  },
  {
   "cell_type": "code",
   "execution_count": 1,
   "id": "417a8ff9-4dd4-4239-bab4-372f9047aa77",
   "metadata": {},
   "outputs": [
    {
     "name": "stdout",
     "output_type": "stream",
     "text": [
      "======================\n",
      "= Welcome to the ATM =\n",
      "======================\n",
      "=                    =\n",
      "=  1. Balance        =\n",
      "=  2. Change PIN     =\n",
      "=  3. Withdraw       =\n",
      "=  x. Exit           =\n",
      "=                    =\n",
      "======================\n"
     ]
    }
   ],
   "source": [
    "#Task 01\n",
    "print(\"======================\")\n",
    "print(\"= Welcome to the ATM =\")\n",
    "print(\"======================\")\n",
    "print(\"=                    =\")\n",
    "print(\"=  1. Balance        =\")\n",
    "print(\"=  2. Change PIN     =\")\n",
    "print(\"=  3. Withdraw       =\")\n",
    "print(\"=  x. Exit           =\")\n",
    "print(\"=                    =\")\n",
    "print(\"======================\")"
   ]
  },
  {
   "cell_type": "code",
   "execution_count": null,
   "id": "566c4a62-7e24-4c68-94b4-883e1b6a2593",
   "metadata": {},
   "outputs": [],
   "source": [
    "TASK 02\n",
    "Copy the code from part 01 Modify the code to create the menu using only 1 print function and the \\n function.\n",
    "TASK 03\n",
    "Copy the code from part 01 and modify the code to create the spaces using the \\t function.\n",
    "Note: You may need to modify the length of the 3 full lines for it to appear correct\n",
    "TASK 04\n",
    "Using what you learned in the previous 2 tasks. Create a final menu using only 1 print function and the tab and new line functions.\n"
   ]
  },
  {
   "cell_type": "code",
   "execution_count": 2,
   "id": "53a8d3f9-e5ea-4a8a-b016-79fea2525a70",
   "metadata": {},
   "outputs": [
    {
     "name": "stdout",
     "output_type": "stream",
     "text": [
      "======================\n",
      "= Welcome to the ATM =\n",
      "======================\n",
      "=                    =\n",
      "=  1. Balance        =\n",
      "=  2. Change PIN     =\n",
      "=  3. Withdraw       =\n",
      "=  x. Exit           =\n",
      "=                    =\n",
      "======================\n"
     ]
    }
   ],
   "source": [
    "# Task 02 - Modified code using only 1 print function and the \\n function\n",
    "print(\"======================\\n= Welcome to the ATM =\\n======================\\n=                    =\\n=  1. Balance        =\\n=  2. Change PIN     =\\n=  3. Withdraw       =\\n=  x. Exit           =\\n=                    =\\n======================\")"
   ]
  },
  {
   "cell_type": "code",
   "execution_count": 3,
   "id": "9e5d2ee7-b4b2-4e9b-bf6b-02c11830a667",
   "metadata": {},
   "outputs": [
    {
     "name": "stdout",
     "output_type": "stream",
     "text": [
      "=========================\n",
      "=\tWelcome to the ATM\t=\n",
      "=========================\n",
      "=\t\t\t\t\t\t=\n",
      "=\t1. Balance\t\t\t=\n",
      "=\t2. Change PIN\t\t=\n",
      "=\t3. Withdraw\t\t\t=\n",
      "=\tx. Exit\t\t\t\t=\n",
      "=\t\t\t\t\t\t=\n",
      "=========================\n"
     ]
    }
   ],
   "source": [
    "#Task 03 - Modified code from part 01 to use the \\t command to create the menu\n",
    "print(\"=========================\")\n",
    "print(\"=\\tWelcome to the ATM\\t=\")\n",
    "print(\"=========================\")\n",
    "print(\"=\\t\\t\\t\\t\\t\\t=\")\n",
    "print(\"=\\t1. Balance\\t\\t\\t=\")\n",
    "print(\"=\\t2. Change PIN\\t\\t=\")\n",
    "print(\"=\\t3. Withdraw\\t\\t\\t=\")\n",
    "print(\"=\\tx. Exit\\t\\t\\t\\t=\")\n",
    "print(\"=\\t\\t\\t\\t\\t\\t=\")\n",
    "print(\"=========================\")"
   ]
  },
  {
   "cell_type": "code",
   "execution_count": 4,
   "id": "faf36832-f8d1-4ca8-b2ef-a4515093beaa",
   "metadata": {},
   "outputs": [
    {
     "name": "stdout",
     "output_type": "stream",
     "text": [
      "=========================\n",
      "=\tWelcome to the ATM\t=\n",
      "=========================\n",
      "=\t\t\t\t\t\t=\n",
      "=\t1. Balance\t\t\t=\n",
      "=\t2. Change PIN\t\t=\n",
      "=\t3. Withdraw\t\t\t=\n",
      "=\tx. Exit\t\t\t\t=\n",
      "=\t\t\t\t\t\t=\n",
      "=========================\n"
     ]
    }
   ],
   "source": [
    "#Task 04 - Combination of the previous tasks\n",
    "print(\"=========================\\n=\\tWelcome to the ATM\\t=\\n=========================\\n=\\t\\t\\t\\t\\t\\t=\\n=\\t1. Balance\\t\\t\\t=\\n=\\t2. Change PIN\\t\\t=\\n=\\t3. Withdraw\\t\\t\\t=\\n=\\tx. Exit\\t\\t\\t\\t=\\n=\\t\\t\\t\\t\\t\\t=\\n=========================\")"
   ]
  },
  {
   "cell_type": "code",
   "execution_count": null,
   "id": "f34e4754-735d-487b-8fe2-6a6229cd92d5",
   "metadata": {},
   "outputs": [],
   "source": []
  }
 ],
 "metadata": {
  "kernelspec": {
   "display_name": "Python 3 (ipykernel)",
   "language": "python",
   "name": "python3"
  },
  "language_info": {
   "codemirror_mode": {
    "name": "ipython",
    "version": 3
   },
   "file_extension": ".py",
   "mimetype": "text/x-python",
   "name": "python",
   "nbconvert_exporter": "python",
   "pygments_lexer": "ipython3",
   "version": "3.11.4"
  }
 },
 "nbformat": 4,
 "nbformat_minor": 5
}
